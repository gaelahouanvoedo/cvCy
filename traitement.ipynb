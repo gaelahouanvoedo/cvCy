{
 "cells": [
  {
   "cell_type": "code",
   "execution_count": 1,
   "id": "d8d2aea8",
   "metadata": {},
   "outputs": [
    {
     "name": "stderr",
     "output_type": "stream",
     "text": [
      "<frozen importlib._bootstrap>:228: RuntimeWarning: scipy._lib.messagestream.MessageStream size changed, may indicate binary incompatibility. Expected 56 from C header, got 64 from PyObject\n"
     ]
    }
   ],
   "source": [
    "import pandas as pd\n",
    "import numpy as np\n",
    "from sklearn.feature_extraction.text import CountVectorizer\n",
    "from sklearn.metrics.pairwise import cosine_similarity\n",
    "pd.options.display.max_rows = None\n",
    "pd.set_option('display.max_colwidth', None)"
   ]
  },
  {
   "cell_type": "markdown",
   "id": "fdfa44ac",
   "metadata": {},
   "source": [
    "\n",
    "Il te faut d'abord extraire tous les skills dans les CV, a toi de voir le procédé le plus adequat. \n",
    "\n",
    "Tu as la possibilité entre opencv et les regulars expressions.\n"
   ]
  },
  {
   "cell_type": "code",
   "execution_count": 2,
   "id": "cd904806",
   "metadata": {},
   "outputs": [],
   "source": [
    "df = pd.read_csv('cv.csv')"
   ]
  },
  {
   "cell_type": "code",
   "execution_count": 3,
   "id": "c8cabc2e",
   "metadata": {},
   "outputs": [
    {
     "data": {
      "text/html": [
       "<div>\n",
       "<style scoped>\n",
       "    .dataframe tbody tr th:only-of-type {\n",
       "        vertical-align: middle;\n",
       "    }\n",
       "\n",
       "    .dataframe tbody tr th {\n",
       "        vertical-align: top;\n",
       "    }\n",
       "\n",
       "    .dataframe thead th {\n",
       "        text-align: right;\n",
       "    }\n",
       "</style>\n",
       "<table border=\"1\" class=\"dataframe\">\n",
       "  <thead>\n",
       "    <tr style=\"text-align: right;\">\n",
       "      <th></th>\n",
       "      <th>nom</th>\n",
       "      <th>skills</th>\n",
       "    </tr>\n",
       "  </thead>\n",
       "  <tbody>\n",
       "    <tr>\n",
       "      <th>0</th>\n",
       "      <td>Alice Dupont.pdf</td>\n",
       "      <td>['ABC', 'Paris']</td>\n",
       "    </tr>\n",
       "    <tr>\n",
       "      <th>1</th>\n",
       "      <td>Gael Adebayo.pdf</td>\n",
       "      <td>[]</td>\n",
       "    </tr>\n",
       "    <tr>\n",
       "      <th>2</th>\n",
       "      <td>Jean Dupont.pdf</td>\n",
       "      <td>['5 ans', 'ABC', 'Paris']</td>\n",
       "    </tr>\n",
       "    <tr>\n",
       "      <th>3</th>\n",
       "      <td>Pierre Martin.pdf</td>\n",
       "      <td>['Bank', 'Paris']</td>\n",
       "    </tr>\n",
       "    <tr>\n",
       "      <th>4</th>\n",
       "      <td>Sarah Smith.pdf</td>\n",
       "      <td>['ABC', 'Paris']</td>\n",
       "    </tr>\n",
       "  </tbody>\n",
       "</table>\n",
       "</div>"
      ],
      "text/plain": [
       "                 nom                     skills\n",
       "0   Alice Dupont.pdf           ['ABC', 'Paris']\n",
       "1   Gael Adebayo.pdf                         []\n",
       "2    Jean Dupont.pdf  ['5 ans', 'ABC', 'Paris']\n",
       "3  Pierre Martin.pdf          ['Bank', 'Paris']\n",
       "4    Sarah Smith.pdf           ['ABC', 'Paris']"
      ]
     },
     "execution_count": 3,
     "metadata": {},
     "output_type": "execute_result"
    }
   ],
   "source": [
    "df"
   ]
  },
  {
   "cell_type": "code",
   "execution_count": 4,
   "id": "a913e858",
   "metadata": {},
   "outputs": [
    {
     "data": {
      "text/plain": [
       "nom       object\n",
       "skills    object\n",
       "dtype: object"
      ]
     },
     "execution_count": 4,
     "metadata": {},
     "output_type": "execute_result"
    }
   ],
   "source": [
    "df.dtypes"
   ]
  },
  {
   "cell_type": "code",
   "execution_count": 5,
   "id": "fde564a8",
   "metadata": {},
   "outputs": [],
   "source": [
    "competences_recherches = ['5 ans','Bank','ABC','Paris']"
   ]
  },
  {
   "cell_type": "code",
   "execution_count": 6,
   "id": "04692730",
   "metadata": {},
   "outputs": [
    {
     "name": "stderr",
     "output_type": "stream",
     "text": [
      "C:\\Users\\LENOVO\\AppData\\Local\\Temp\\ipykernel_12060\\228371693.py:3: FutureWarning: The frame.append method is deprecated and will be removed from pandas in a future version. Use pandas.concat instead.\n",
      "  df = df.append(new_row, ignore_index=True)\n"
     ]
    },
    {
     "data": {
      "text/html": [
       "<div>\n",
       "<style scoped>\n",
       "    .dataframe tbody tr th:only-of-type {\n",
       "        vertical-align: middle;\n",
       "    }\n",
       "\n",
       "    .dataframe tbody tr th {\n",
       "        vertical-align: top;\n",
       "    }\n",
       "\n",
       "    .dataframe thead th {\n",
       "        text-align: right;\n",
       "    }\n",
       "</style>\n",
       "<table border=\"1\" class=\"dataframe\">\n",
       "  <thead>\n",
       "    <tr style=\"text-align: right;\">\n",
       "      <th></th>\n",
       "      <th>nom</th>\n",
       "      <th>skills</th>\n",
       "    </tr>\n",
       "  </thead>\n",
       "  <tbody>\n",
       "    <tr>\n",
       "      <th>0</th>\n",
       "      <td>Alice Dupont.pdf</td>\n",
       "      <td>['ABC', 'Paris']</td>\n",
       "    </tr>\n",
       "    <tr>\n",
       "      <th>1</th>\n",
       "      <td>Gael Adebayo.pdf</td>\n",
       "      <td>[]</td>\n",
       "    </tr>\n",
       "    <tr>\n",
       "      <th>2</th>\n",
       "      <td>Jean Dupont.pdf</td>\n",
       "      <td>['5 ans', 'ABC', 'Paris']</td>\n",
       "    </tr>\n",
       "    <tr>\n",
       "      <th>3</th>\n",
       "      <td>Pierre Martin.pdf</td>\n",
       "      <td>['Bank', 'Paris']</td>\n",
       "    </tr>\n",
       "    <tr>\n",
       "      <th>4</th>\n",
       "      <td>Sarah Smith.pdf</td>\n",
       "      <td>['ABC', 'Paris']</td>\n",
       "    </tr>\n",
       "    <tr>\n",
       "      <th>5</th>\n",
       "      <td>emploi</td>\n",
       "      <td>[5 ans, Bank, ABC, Paris]</td>\n",
       "    </tr>\n",
       "  </tbody>\n",
       "</table>\n",
       "</div>"
      ],
      "text/plain": [
       "                 nom                     skills\n",
       "0   Alice Dupont.pdf           ['ABC', 'Paris']\n",
       "1   Gael Adebayo.pdf                         []\n",
       "2    Jean Dupont.pdf  ['5 ans', 'ABC', 'Paris']\n",
       "3  Pierre Martin.pdf          ['Bank', 'Paris']\n",
       "4    Sarah Smith.pdf           ['ABC', 'Paris']\n",
       "5             emploi  [5 ans, Bank, ABC, Paris]"
      ]
     },
     "execution_count": 6,
     "metadata": {},
     "output_type": "execute_result"
    }
   ],
   "source": [
    "# Ajouter une nouvelle ligne avec les compétences recherchées\n",
    "new_row = {'nom': 'emploi', 'skills': competences_recherches}\n",
    "df = df.append(new_row, ignore_index=True)\n",
    "\n",
    "# Afficher le DataFrame mis à jour\n",
    "df"
   ]
  },
  {
   "cell_type": "code",
   "execution_count": 7,
   "id": "e36bad1d",
   "metadata": {},
   "outputs": [],
   "source": [
    "def clean_skills(skills_list):\n",
    "    # Convertir la liste en une chaîne de caractères\n",
    "    skills_str = ', '.join(skills_list)\n",
    "    # Appliquer la méthode str.replace pour enlever les caractères indésirables\n",
    "    skills_str = skills_str.replace('[', '').replace(']', '').replace('\\'', '').replace('\\\"', '').replace(',', '')\n",
    "    return skills_str\n",
    "\n",
    "# Appliquer la fonction clean_skills à la ligne qui a \"nom\" égal à \"emploi\"\n",
    "df.loc[df['nom'] == 'emploi', 'skills'] = df.loc[df['nom'] == 'emploi', 'skills'].apply(clean_skills)"
   ]
  },
  {
   "cell_type": "code",
   "execution_count": 8,
   "id": "c20830a3",
   "metadata": {},
   "outputs": [
    {
     "name": "stderr",
     "output_type": "stream",
     "text": [
      "C:\\Users\\LENOVO\\AppData\\Local\\Temp\\ipykernel_12060\\2560733127.py:1: FutureWarning: The default value of regex will change from True to False in a future version.\n",
      "  df['skills'] = df['skills'].str.replace('[\\[\\]\\'\\\",]', '')\n"
     ]
    },
    {
     "data": {
      "text/html": [
       "<div>\n",
       "<style scoped>\n",
       "    .dataframe tbody tr th:only-of-type {\n",
       "        vertical-align: middle;\n",
       "    }\n",
       "\n",
       "    .dataframe tbody tr th {\n",
       "        vertical-align: top;\n",
       "    }\n",
       "\n",
       "    .dataframe thead th {\n",
       "        text-align: right;\n",
       "    }\n",
       "</style>\n",
       "<table border=\"1\" class=\"dataframe\">\n",
       "  <thead>\n",
       "    <tr style=\"text-align: right;\">\n",
       "      <th></th>\n",
       "      <th>nom</th>\n",
       "      <th>skills</th>\n",
       "    </tr>\n",
       "  </thead>\n",
       "  <tbody>\n",
       "    <tr>\n",
       "      <th>0</th>\n",
       "      <td>Alice Dupont.pdf</td>\n",
       "      <td>ABC Paris</td>\n",
       "    </tr>\n",
       "    <tr>\n",
       "      <th>1</th>\n",
       "      <td>Gael Adebayo.pdf</td>\n",
       "      <td></td>\n",
       "    </tr>\n",
       "    <tr>\n",
       "      <th>2</th>\n",
       "      <td>Jean Dupont.pdf</td>\n",
       "      <td>5 ans ABC Paris</td>\n",
       "    </tr>\n",
       "    <tr>\n",
       "      <th>3</th>\n",
       "      <td>Pierre Martin.pdf</td>\n",
       "      <td>Bank Paris</td>\n",
       "    </tr>\n",
       "    <tr>\n",
       "      <th>4</th>\n",
       "      <td>Sarah Smith.pdf</td>\n",
       "      <td>ABC Paris</td>\n",
       "    </tr>\n",
       "    <tr>\n",
       "      <th>5</th>\n",
       "      <td>emploi</td>\n",
       "      <td>5 ans Bank ABC Paris</td>\n",
       "    </tr>\n",
       "  </tbody>\n",
       "</table>\n",
       "</div>"
      ],
      "text/plain": [
       "                 nom                skills\n",
       "0   Alice Dupont.pdf             ABC Paris\n",
       "1   Gael Adebayo.pdf                      \n",
       "2    Jean Dupont.pdf       5 ans ABC Paris\n",
       "3  Pierre Martin.pdf            Bank Paris\n",
       "4    Sarah Smith.pdf             ABC Paris\n",
       "5             emploi  5 ans Bank ABC Paris"
      ]
     },
     "execution_count": 8,
     "metadata": {},
     "output_type": "execute_result"
    }
   ],
   "source": [
    "df['skills'] = df['skills'].str.replace('[\\[\\]\\'\\\",]', '')\n",
    "\n",
    "df"
   ]
  },
  {
   "cell_type": "code",
   "execution_count": null,
   "id": "53be34f5",
   "metadata": {},
   "outputs": [],
   "source": []
  },
  {
   "cell_type": "markdown",
   "id": "8ad62b0e",
   "metadata": {},
   "source": [
    "Là je considère que tu l'as déjà fait, du auras une colonne qui te permet de faire une jointure de tous les skills chez chaque profil\n",
    "\n",
    "Maintenat moi j'ai une colonne qui donne le nom (colonne titre) mais en plus j'ai des colonnes pré faites pour des fonctions cibles de lentreprise. par exemple un profil dev parfait et les skills associé\n",
    "\n",
    "Pour traiter tous celà de manière vriament basique on peu utiliser CounterVectorizer"
   ]
  },
  {
   "cell_type": "code",
   "execution_count": 9,
   "id": "4f9266eb",
   "metadata": {},
   "outputs": [],
   "source": [
    "#Créer un objet CV\n",
    "cv=CountVectorizer()\n",
    "count_matrix=cv.fit_transform(df[\"skills\"])"
   ]
  },
  {
   "cell_type": "code",
   "execution_count": 10,
   "id": "0f3cd260",
   "metadata": {},
   "outputs": [],
   "source": [
    "cosine_sim=cosine_similarity(count_matrix)"
   ]
  },
  {
   "cell_type": "code",
   "execution_count": 11,
   "id": "635d182b",
   "metadata": {},
   "outputs": [
    {
     "data": {
      "text/plain": [
       "5"
      ]
     },
     "execution_count": 11,
     "metadata": {},
     "output_type": "execute_result"
    }
   ],
   "source": [
    "index = df[df['nom']=='emploi'].index[0]\n",
    "index"
   ]
  },
  {
   "cell_type": "code",
   "execution_count": 12,
   "id": "19ce3b94",
   "metadata": {},
   "outputs": [
    {
     "data": {
      "text/plain": [
       "[(0, 0.7071067811865475),\n",
       " (1, 0.0),\n",
       " (2, 0.8660254037844388),\n",
       " (3, 0.7071067811865475),\n",
       " (4, 0.7071067811865475),\n",
       " (5, 1.0)]"
      ]
     },
     "execution_count": 12,
     "metadata": {},
     "output_type": "execute_result"
    }
   ],
   "source": [
    "# Obtenir les scores de similarité cosinus pour le profil\n",
    "similarity_scores = list(enumerate(cosine_sim[index]))\n",
    "similarity_scores"
   ]
  },
  {
   "cell_type": "code",
   "execution_count": 13,
   "id": "012024f7",
   "metadata": {},
   "outputs": [
    {
     "data": {
      "text/plain": [
       "[(5, 1.0),\n",
       " (2, 0.8660254037844388),\n",
       " (0, 0.7071067811865475),\n",
       " (3, 0.7071067811865475),\n",
       " (4, 0.7071067811865475),\n",
       " (1, 0.0)]"
      ]
     },
     "execution_count": 13,
     "metadata": {},
     "output_type": "execute_result"
    }
   ],
   "source": [
    "# Trier les scores de similarité cosinus par ordre décroissant\n",
    "sorted_scores = sorted(similarity_scores, key=lambda x:x[1], reverse=True)\n",
    "sorted_scores"
   ]
  },
  {
   "cell_type": "code",
   "execution_count": 14,
   "id": "940f5b56",
   "metadata": {},
   "outputs": [
    {
     "data": {
      "text/plain": [
       "[('emploi', '5 ans Bank ABC Paris', 1.0),\n",
       " ('Jean Dupont.pdf', '5 ans ABC Paris', 0.8660254037844388),\n",
       " ('Alice Dupont.pdf', 'ABC Paris', 0.7071067811865475),\n",
       " ('Pierre Martin.pdf', 'Bank Paris', 0.7071067811865475),\n",
       " ('Sarah Smith.pdf', 'ABC Paris', 0.7071067811865475),\n",
       " ('Gael Adebayo.pdf', '', 0.0)]"
      ]
     },
     "execution_count": 14,
     "metadata": {},
     "output_type": "execute_result"
    }
   ],
   "source": [
    "# Créer une liste des 5 meilleurs profils avec leurs scores de similarité cosinus\n",
    "top_5_profiles = [(df.iloc[sorted_scores[i][0]]['nom'], df.iloc[sorted_scores[i][0]]['skills'], sorted_scores[i][1]) for i in range(6)]\n",
    "top_5_profiles"
   ]
  },
  {
   "cell_type": "code",
   "execution_count": 15,
   "id": "0f96b61b",
   "metadata": {},
   "outputs": [
    {
     "data": {
      "text/html": [
       "<div>\n",
       "<style scoped>\n",
       "    .dataframe tbody tr th:only-of-type {\n",
       "        vertical-align: middle;\n",
       "    }\n",
       "\n",
       "    .dataframe tbody tr th {\n",
       "        vertical-align: top;\n",
       "    }\n",
       "\n",
       "    .dataframe thead th {\n",
       "        text-align: right;\n",
       "    }\n",
       "</style>\n",
       "<table border=\"1\" class=\"dataframe\">\n",
       "  <thead>\n",
       "    <tr style=\"text-align: right;\">\n",
       "      <th></th>\n",
       "      <th>titre</th>\n",
       "      <th>skills</th>\n",
       "      <th>similarité</th>\n",
       "    </tr>\n",
       "  </thead>\n",
       "  <tbody>\n",
       "    <tr>\n",
       "      <th>0</th>\n",
       "      <td>emploi</td>\n",
       "      <td>5 ans Bank ABC Paris</td>\n",
       "      <td>1.000000</td>\n",
       "    </tr>\n",
       "    <tr>\n",
       "      <th>1</th>\n",
       "      <td>Jean Dupont.pdf</td>\n",
       "      <td>5 ans ABC Paris</td>\n",
       "      <td>0.866025</td>\n",
       "    </tr>\n",
       "    <tr>\n",
       "      <th>2</th>\n",
       "      <td>Alice Dupont.pdf</td>\n",
       "      <td>ABC Paris</td>\n",
       "      <td>0.707107</td>\n",
       "    </tr>\n",
       "    <tr>\n",
       "      <th>3</th>\n",
       "      <td>Pierre Martin.pdf</td>\n",
       "      <td>Bank Paris</td>\n",
       "      <td>0.707107</td>\n",
       "    </tr>\n",
       "    <tr>\n",
       "      <th>4</th>\n",
       "      <td>Sarah Smith.pdf</td>\n",
       "      <td>ABC Paris</td>\n",
       "      <td>0.707107</td>\n",
       "    </tr>\n",
       "    <tr>\n",
       "      <th>5</th>\n",
       "      <td>Gael Adebayo.pdf</td>\n",
       "      <td></td>\n",
       "      <td>0.000000</td>\n",
       "    </tr>\n",
       "  </tbody>\n",
       "</table>\n",
       "</div>"
      ],
      "text/plain": [
       "               titre                skills  similarité\n",
       "0             emploi  5 ans Bank ABC Paris    1.000000\n",
       "1    Jean Dupont.pdf       5 ans ABC Paris    0.866025\n",
       "2   Alice Dupont.pdf             ABC Paris    0.707107\n",
       "3  Pierre Martin.pdf            Bank Paris    0.707107\n",
       "4    Sarah Smith.pdf             ABC Paris    0.707107\n",
       "5   Gael Adebayo.pdf                          0.000000"
      ]
     },
     "execution_count": 15,
     "metadata": {},
     "output_type": "execute_result"
    }
   ],
   "source": [
    "# Créer un dataframe à partir de la liste des 5 meilleurs profils\n",
    "df_top_5 = pd.DataFrame(top_5_profiles, columns=['titre', 'skills', 'similarité'])\n",
    "df_top_5"
   ]
  },
  {
   "cell_type": "code",
   "execution_count": 16,
   "id": "a6636348",
   "metadata": {},
   "outputs": [
    {
     "data": {
      "text/html": [
       "<div>\n",
       "<style scoped>\n",
       "    .dataframe tbody tr th:only-of-type {\n",
       "        vertical-align: middle;\n",
       "    }\n",
       "\n",
       "    .dataframe tbody tr th {\n",
       "        vertical-align: top;\n",
       "    }\n",
       "\n",
       "    .dataframe thead th {\n",
       "        text-align: right;\n",
       "    }\n",
       "</style>\n",
       "<table border=\"1\" class=\"dataframe\">\n",
       "  <thead>\n",
       "    <tr style=\"text-align: right;\">\n",
       "      <th></th>\n",
       "      <th>titre</th>\n",
       "      <th>skills</th>\n",
       "      <th>similarité</th>\n",
       "    </tr>\n",
       "  </thead>\n",
       "  <tbody>\n",
       "    <tr>\n",
       "      <th>1</th>\n",
       "      <td>Jean Dupont.pdf</td>\n",
       "      <td>5 ans ABC Paris</td>\n",
       "      <td>0.866025</td>\n",
       "    </tr>\n",
       "    <tr>\n",
       "      <th>2</th>\n",
       "      <td>Alice Dupont.pdf</td>\n",
       "      <td>ABC Paris</td>\n",
       "      <td>0.707107</td>\n",
       "    </tr>\n",
       "    <tr>\n",
       "      <th>3</th>\n",
       "      <td>Pierre Martin.pdf</td>\n",
       "      <td>Bank Paris</td>\n",
       "      <td>0.707107</td>\n",
       "    </tr>\n",
       "    <tr>\n",
       "      <th>4</th>\n",
       "      <td>Sarah Smith.pdf</td>\n",
       "      <td>ABC Paris</td>\n",
       "      <td>0.707107</td>\n",
       "    </tr>\n",
       "    <tr>\n",
       "      <th>5</th>\n",
       "      <td>Gael Adebayo.pdf</td>\n",
       "      <td></td>\n",
       "      <td>0.000000</td>\n",
       "    </tr>\n",
       "  </tbody>\n",
       "</table>\n",
       "</div>"
      ],
      "text/plain": [
       "               titre           skills  similarité\n",
       "1    Jean Dupont.pdf  5 ans ABC Paris    0.866025\n",
       "2   Alice Dupont.pdf        ABC Paris    0.707107\n",
       "3  Pierre Martin.pdf       Bank Paris    0.707107\n",
       "4    Sarah Smith.pdf        ABC Paris    0.707107\n",
       "5   Gael Adebayo.pdf                     0.000000"
      ]
     },
     "execution_count": 16,
     "metadata": {},
     "output_type": "execute_result"
    }
   ],
   "source": [
    "# Afficher le dataframe\n",
    "df_top_5[1:6]"
   ]
  },
  {
   "cell_type": "code",
   "execution_count": null,
   "id": "c81b144f",
   "metadata": {},
   "outputs": [],
   "source": []
  },
  {
   "cell_type": "code",
   "execution_count": null,
   "id": "69dca7ce",
   "metadata": {},
   "outputs": [],
   "source": []
  },
  {
   "cell_type": "code",
   "execution_count": null,
   "id": "7aad1758",
   "metadata": {},
   "outputs": [],
   "source": []
  }
 ],
 "metadata": {
  "kernelspec": {
   "display_name": "Python 3 (ipykernel)",
   "language": "python",
   "name": "python3"
  },
  "language_info": {
   "codemirror_mode": {
    "name": "ipython",
    "version": 3
   },
   "file_extension": ".py",
   "mimetype": "text/x-python",
   "name": "python",
   "nbconvert_exporter": "python",
   "pygments_lexer": "ipython3",
   "version": "3.9.13"
  }
 },
 "nbformat": 4,
 "nbformat_minor": 5
}
