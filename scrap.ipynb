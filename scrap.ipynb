{
 "cells": [
  {
   "cell_type": "code",
   "execution_count": 1,
   "id": "8f66b586",
   "metadata": {},
   "outputs": [
    {
     "data": {
      "text/html": [
       "<div>\n",
       "<style scoped>\n",
       "    .dataframe tbody tr th:only-of-type {\n",
       "        vertical-align: middle;\n",
       "    }\n",
       "\n",
       "    .dataframe tbody tr th {\n",
       "        vertical-align: top;\n",
       "    }\n",
       "\n",
       "    .dataframe thead th {\n",
       "        text-align: right;\n",
       "    }\n",
       "</style>\n",
       "<table border=\"1\" class=\"dataframe\">\n",
       "  <thead>\n",
       "    <tr style=\"text-align: right;\">\n",
       "      <th></th>\n",
       "      <th>nom</th>\n",
       "      <th>skills</th>\n",
       "    </tr>\n",
       "  </thead>\n",
       "  <tbody>\n",
       "    <tr>\n",
       "      <th>0</th>\n",
       "      <td>Alice Dupont.pdf</td>\n",
       "      <td>[ABC, Paris]</td>\n",
       "    </tr>\n",
       "    <tr>\n",
       "      <th>1</th>\n",
       "      <td>Gael Adebayo.pdf</td>\n",
       "      <td>[]</td>\n",
       "    </tr>\n",
       "    <tr>\n",
       "      <th>2</th>\n",
       "      <td>Jean Dupont.pdf</td>\n",
       "      <td>[5 ans, ABC, Paris]</td>\n",
       "    </tr>\n",
       "    <tr>\n",
       "      <th>3</th>\n",
       "      <td>Pierre Martin.pdf</td>\n",
       "      <td>[Bank, Paris]</td>\n",
       "    </tr>\n",
       "    <tr>\n",
       "      <th>4</th>\n",
       "      <td>Sarah Smith.pdf</td>\n",
       "      <td>[ABC, Paris]</td>\n",
       "    </tr>\n",
       "  </tbody>\n",
       "</table>\n",
       "</div>"
      ],
      "text/plain": [
       "                 nom               skills\n",
       "0   Alice Dupont.pdf         [ABC, Paris]\n",
       "1   Gael Adebayo.pdf                   []\n",
       "2    Jean Dupont.pdf  [5 ans, ABC, Paris]\n",
       "3  Pierre Martin.pdf        [Bank, Paris]\n",
       "4    Sarah Smith.pdf         [ABC, Paris]"
      ]
     },
     "execution_count": 1,
     "metadata": {},
     "output_type": "execute_result"
    }
   ],
   "source": [
    "import os\n",
    "import PyPDF2\n",
    "import pandas as pd\n",
    "\n",
    "# Dossier contenant les fichiers PDF à traiter\n",
    "dossier_pdf = 'pdf'\n",
    "\n",
    "# Liste pour stocker les résultats\n",
    "resultats = []\n",
    "\n",
    "# Parcourir tous les fichiers PDF dans le dossier\n",
    "for nom_fichier in os.listdir(dossier_pdf):\n",
    "    if nom_fichier.endswith('.pdf'):\n",
    "        chemin_fichier = os.path.join(dossier_pdf, nom_fichier)\n",
    "        with open(chemin_fichier, 'rb') as pdf_file:\n",
    "            # Créer un objet PyPDF2 PdfFileReader\n",
    "            pdf_reader = PyPDF2.PdfFileReader(pdf_file)\n",
    "            # Extraire le texte de chaque page du PDF\n",
    "            text = ''\n",
    "            for page_num in range(pdf_reader.numPages):\n",
    "                page = pdf_reader.getPage(page_num)\n",
    "                text += page.extractText()\n",
    "\n",
    "            # Liste des compétences que nous recherchons\n",
    "            competences_recherches = ['5 ans','Bank','ABC','Paris']\n",
    "\n",
    "            # Rechercher les compétences dans le texte\n",
    "            competences_trouvees = []\n",
    "            for competence in competences_recherches:\n",
    "                if competence.lower() in text.lower():\n",
    "                    competences_trouvees.append(competence)\n",
    "\n",
    "            # Ajouter les résultats à la liste\n",
    "            resultats.append({'nom': nom_fichier, 'skills': competences_trouvees})\n",
    "\n",
    "# Créer un dataframe à partir des résultats\n",
    "df = pd.DataFrame(resultats)\n",
    "\n",
    "# Afficher le dataframe\n",
    "df"
   ]
  },
  {
   "cell_type": "code",
   "execution_count": 2,
   "id": "e08dcd38",
   "metadata": {},
   "outputs": [],
   "source": [
    "df.to_csv('cv.csv', index=False)"
   ]
  },
  {
   "cell_type": "code",
   "execution_count": null,
   "id": "634f536c",
   "metadata": {},
   "outputs": [],
   "source": []
  }
 ],
 "metadata": {
  "kernelspec": {
   "display_name": "Python 3 (ipykernel)",
   "language": "python",
   "name": "python3"
  },
  "language_info": {
   "codemirror_mode": {
    "name": "ipython",
    "version": 3
   },
   "file_extension": ".py",
   "mimetype": "text/x-python",
   "name": "python",
   "nbconvert_exporter": "python",
   "pygments_lexer": "ipython3",
   "version": "3.9.13"
  }
 },
 "nbformat": 4,
 "nbformat_minor": 5
}
